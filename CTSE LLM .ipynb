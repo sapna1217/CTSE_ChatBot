{
 "cells": [
  {
   "cell_type": "code",
   "execution_count": 1,
   "id": "e057cce6-d8bc-4142-8f42-9ec05b241a6e",
   "metadata": {},
   "outputs": [
    {
     "name": "stderr",
     "output_type": "stream",
     "text": [
      "C:\\Python312\\Lib\\site-packages\\tqdm\\auto.py:21: TqdmWarning: IProgress not found. Please update jupyter and ipywidgets. See https://ipywidgets.readthedocs.io/en/stable/user_install.html\n",
      "  from .autonotebook import tqdm as notebook_tqdm\n"
     ]
    }
   ],
   "source": [
    "\n",
    "from langchain.document_loaders import PyPDFLoader\n",
    "from langchain.text_splitter import RecursiveCharacterTextSplitter\n",
    "from langchain.embeddings import HuggingFaceEmbeddings\n",
    "from langchain.vectorstores import FAISS\n",
    "from langchain.chains import RetrievalQA\n",
    "from langchain.llms import HuggingFacePipeline\n",
    "from transformers import pipeline\n",
    "import logging"
   ]
  },
  {
   "cell_type": "code",
   "execution_count": 2,
   "id": "d9bf7bb4-4e8e-4087-9ee8-a6c75caa976e",
   "metadata": {},
   "outputs": [
    {
     "name": "stdout",
     "output_type": "stream",
     "text": [
      "Loaded 37 document(s).\n",
      "Split into 37 document chunks.\n"
     ]
    }
   ],
   "source": [
    "# Load the CTSE lecture notes (text file)\n",
    "\n",
    "#Lecture notes file is in the same folder as this notebook\n",
    "loader = PyPDFLoader('CTSE.pdf')  # Replace with your file name\n",
    "documents = loader.load()\n",
    "\n",
    "print(f\"Loaded {len(documents)} document(s).\")\n",
    "\n",
    "\n",
    "text_splitter = RecursiveCharacterTextSplitter(\n",
    "    chunk_size=1000,\n",
    "    chunk_overlap=100\n",
    ")\n",
    "\n",
    "docs = text_splitter.split_documents(documents)\n",
    "print(f\"Split into {len(docs)} document chunks.\")"
   ]
  },
  {
   "cell_type": "code",
   "execution_count": 3,
   "id": "a1d5119a-7a12-49ee-80f3-e3213bb749d3",
   "metadata": {},
   "outputs": [
    {
     "name": "stderr",
     "output_type": "stream",
     "text": [
      "C:\\Users\\ASUS\\AppData\\Local\\Temp\\ipykernel_28956\\479102527.py:3: LangChainDeprecationWarning: The class `HuggingFaceEmbeddings` was deprecated in LangChain 0.2.2 and will be removed in 1.0. An updated version of the class exists in the :class:`~langchain-huggingface package and should be used instead. To use it run `pip install -U :class:`~langchain-huggingface` and import as `from :class:`~langchain_huggingface import HuggingFaceEmbeddings``.\n",
      "  embeddings = HuggingFaceEmbeddings(model_name=\"all-MiniLM-L6-v2\")\n"
     ]
    },
    {
     "name": "stdout",
     "output_type": "stream",
     "text": [
      "Embeddings and vector store created successfully.\n"
     ]
    }
   ],
   "source": [
    "# Create embeddings using Huggingface model\n",
    "\n",
    "embeddings = HuggingFaceEmbeddings(model_name=\"all-MiniLM-L6-v2\")\n",
    "\n",
    "# Build the FAISS vector database\n",
    "db = FAISS.from_documents(docs, embeddings)\n",
    "# Define retriever from vector store\n",
    "retriever = db.as_retriever(search_type=\"similarity\", search_kwargs={\"k\": 3})\n",
    "\n",
    "print(\"Embeddings and vector store created successfully.\")\n"
   ]
  },
  {
   "cell_type": "code",
   "execution_count": 4,
   "id": "055e821d-e797-4c35-a428-a02a6500b5b2",
   "metadata": {},
   "outputs": [
    {
     "name": "stderr",
     "output_type": "stream",
     "text": [
      "Device set to use cpu\n",
      "C:\\Users\\ASUS\\AppData\\Local\\Temp\\ipykernel_28956\\2374736059.py:8: LangChainDeprecationWarning: The class `HuggingFacePipeline` was deprecated in LangChain 0.0.37 and will be removed in 1.0. An updated version of the class exists in the :class:`~langchain-huggingface package and should be used instead. To use it run `pip install -U :class:`~langchain-huggingface` and import as `from :class:`~langchain_huggingface import HuggingFacePipeline``.\n",
      "  llm = HuggingFacePipeline(pipeline=hf_pipeline)\n"
     ]
    }
   ],
   "source": [
    "# Load the model\n",
    "hf_pipeline = pipeline(\n",
    "    task=\"text2text-generation\",\n",
    "    model=\"google/flan-t5-base\",\n",
    "    max_length=512\n",
    ")\n",
    "\n",
    "llm = HuggingFacePipeline(pipeline=hf_pipeline)"
   ]
  },
  {
   "cell_type": "code",
   "execution_count": 5,
   "id": "83e1a8ee-87c1-4086-b32d-7ff943dd7f8e",
   "metadata": {},
   "outputs": [],
   "source": [
    "# Set up the QA chain\n",
    "qa_chain = RetrievalQA.from_chain_type(\n",
    "    llm=llm,\n",
    "    retriever=retriever,\n",
    "    chain_type=\"stuff\"\n",
    ")\n"
   ]
  },
  {
   "cell_type": "code",
   "execution_count": null,
   "id": "93bfe127-196a-48f4-8acb-6acd9d76475e",
   "metadata": {},
   "outputs": [
    {
     "name": "stdout",
     "output_type": "stream",
     "text": [
      "CTSE Chatbot is ready! Ask questions about the lecture notes. Type 'exit' to quit.\n",
      "\n"
     ]
    },
    {
     "name": "stdin",
     "output_type": "stream",
     "text": [
      "Your Question:  hard\n"
     ]
    },
    {
     "name": "stderr",
     "output_type": "stream",
     "text": [
      "C:\\Users\\ASUS\\AppData\\Local\\Temp\\ipykernel_28956\\2504608111.py:16: LangChainDeprecationWarning: The method `BaseRetriever.get_relevant_documents` was deprecated in langchain-core 0.1.46 and will be removed in 1.0. Use :meth:`~invoke` instead.\n",
      "  relevant_docs = retriever.get_relevant_documents(query)\n"
     ]
    },
    {
     "name": "stdout",
     "output_type": "stream",
     "text": [
      "❗ Sorry, I couldn’t find a clear answer in the notes.\n"
     ]
    },
    {
     "name": "stdin",
     "output_type": "stream",
     "text": [
      "Your Question:  what is  Generative Pre-Trained Transformers\n"
     ]
    },
    {
     "name": "stdout",
     "output_type": "stream",
     "text": [
      "\n",
      "✅ Answer: text generation\n",
      "\n"
     ]
    },
    {
     "name": "stdin",
     "output_type": "stream",
     "text": [
      "Your Question:  What mean of  Generative Pre-Trained Transformers\n"
     ]
    },
    {
     "name": "stdout",
     "output_type": "stream",
     "text": [
      "\n",
      "✅ Answer: Transformers are particularly useful for tasks where the input and output sequences can have variable lengths, and where long-range dependencies are important.\n",
      "\n"
     ]
    }
   ],
   "source": [
    "\n",
    "# Configure logging to log unanswered or incorrect questions\n",
    "logging.basicConfig(filename=\"incorrect_answers.log\", level=logging.WARNING, format='%(asctime)s - %(message)s')\n",
    " \n",
    "print(\"CTSE Chatbot is ready! Ask questions about the lecture notes. Type 'exit' to quit.\\n\")\n",
    " \n",
    "# Chat loop\n",
    "while True:\n",
    "    query = input(\"Your Question: \")\n",
    "\n",
    "    if query.lower().strip() == 'exit':\n",
    "        print(\"👋 Goodbye!\")\n",
    "        break\n",
    "\n",
    "    try:\n",
    "        # Get top documents for context\n",
    "        relevant_docs = retriever.get_relevant_documents(query)\n",
    "        if not relevant_docs or all(len(doc.page_content.strip()) == 0 for doc in relevant_docs):\n",
    "            print(\"❗ Sorry, I couldn’t find relevant information in the notes.\")\n",
    "            logging.warning(f\"No relevant content for query: '{query}'\")\n",
    "            continue\n",
    "\n",
    "        # Get answer using invoke\n",
    "        response = qa_chain.invoke({\"query\": query})\n",
    "        answer = response[\"result\"].strip()\n",
    "\n",
    "        if not answer or len(answer) < 10:\n",
    "            print(\"❗ Sorry, I couldn’t find a clear answer in the notes.\")\n",
    "            logging.warning(f\"Weak answer for query: '{query}' → '{answer}'\")\n",
    "        else:\n",
    "            print(f\"\\n Answer: {answer}\\n\")\n",
    "\n",
    "            \n",
    "\n",
    "    except Exception as e:\n",
    "        print(f\"❌ Error: {e}\")\n",
    "\n",
    "\n"
   ]
  }
 ],
 "metadata": {
  "kernelspec": {
   "display_name": "Python 3 (ipykernel)",
   "language": "python",
   "name": "python3"
  },
  "language_info": {
   "codemirror_mode": {
    "name": "ipython",
    "version": 3
   },
   "file_extension": ".py",
   "mimetype": "text/x-python",
   "name": "python",
   "nbconvert_exporter": "python",
   "pygments_lexer": "ipython3",
   "version": "3.12.0"
  }
 },
 "nbformat": 4,
 "nbformat_minor": 5
}
